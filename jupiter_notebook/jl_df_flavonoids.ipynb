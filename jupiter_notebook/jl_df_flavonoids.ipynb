{
 "cells": [
  {
   "cell_type": "code",
   "execution_count": 1,
   "id": "3ba7e969-fab8-4ab0-b486-cb6d74fb8286",
   "metadata": {},
   "outputs": [],
   "source": [
    "import pandas as pd"
   ]
  },
  {
   "cell_type": "code",
   "execution_count": 2,
   "id": "8f6c1230-1435-41eb-a670-bb2f0ddd49d3",
   "metadata": {},
   "outputs": [],
   "source": [
    "df = pd.read_csv(r\"data\\output\\csv\\flavonoids_data.csv\", delimiter=',')"
   ]
  },
  {
   "cell_type": "code",
   "execution_count": 3,
   "id": "e00b47ec-70b6-41c0-b6dd-138ca19ae9e5",
   "metadata": {},
   "outputs": [],
   "source": [
    "#Cambiar espacios por \"_\"\n",
    "df.columns = df.columns.str.replace(' ', '_')"
   ]
  },
  {
   "cell_type": "code",
   "execution_count": 4,
   "id": "632b5417-6d08-4703-9102-9b42d58d4da7",
   "metadata": {},
   "outputs": [],
   "source": [
    "#Numerar filas que no contienen información\n",
    "flavonoides_sin_identificador = df[df['PubChem_SID'].isnull()]\n",
    "cantidad_flavonoides_sin_identificador = flavonoides_sin_identificador.shape[0]"
   ]
  },
  {
   "cell_type": "code",
   "execution_count": 6,
   "id": "58e76981-dfb8-4675-a7f3-1a07765cd6da",
   "metadata": {},
   "outputs": [
    {
     "name": "stdout",
     "output_type": "stream",
     "text": [
      "Número de flavonoides sin identificador en PubChem_SID (Columna original): 12\n"
     ]
    }
   ],
   "source": [
    "print(f'Número de flavonoides sin identificador en PubChem_SID (Columna original): {cantidad_flavonoides_sin_identificador}')"
   ]
  },
  {
   "cell_type": "code",
   "execution_count": 11,
   "id": "ea356643-1f5b-4e29-b692-e08b62814f90",
   "metadata": {
    "tags": []
   },
   "outputs": [
    {
     "name": "stdout",
     "output_type": "stream",
     "text": [
      "Listado de flavonoides sin identificador en PubChem_SID (Archivo Original):\n",
      "                                             ChEBI_Name\n",
      "47                                         Citrifelin B\n",
      "288                                       Aspergivone B\n",
      "330                Naringenin-7-O-beta-D-xylopyranoside\n",
      "458              Sakuranetin-4′-O-beta-D-xylopyranoside\n",
      "583                                       Aspergivone A\n",
      "820                                         Flavoside A\n",
      "859                                     Actinoflavoside\n",
      "883   7,3'-di-(gamma,gamma-dimethylallyloxy)-5-hydro...\n",
      "926                                     Chlorflavonin A\n",
      "1218                                          CJ-19,784\n",
      "1261  8-C-methyl-6-hydroxykaempferol 3,6,7-trimethyl...\n",
      "1466  5,4'-dihydroxy-3,7,8-trimethoxy-6-C-methylflavone\n"
     ]
    }
   ],
   "source": [
    "print(\"Listado de flavonoides sin identificador en PubChem_SID (Columna original):\")\n",
    "print(flavonoides_sin_identificador[['ChEBI_Name']])"
   ]
  },
  {
   "cell_type": "code",
   "execution_count": 13,
   "id": "22878dd4-d145-4b07-8a31-2b374b85f146",
   "metadata": {
    "tags": []
   },
   "outputs": [],
   "source": [
    "#Extraer valores SID y CID\n",
    "df['PubChemSID'] = df['PubChem_SID'].str.extract(r'SID:\\s*(\\d+)')\n",
    "df['PubChemCID'] = df['PubChem_SID'].str.extract(r'CID:\\s*(\\d+)')"
   ]
  },
  {
   "cell_type": "code",
   "execution_count": 14,
   "id": "2f7847fd-b119-4988-827f-3ea919671dc9",
   "metadata": {
    "tags": []
   },
   "outputs": [
    {
     "name": "stdout",
     "output_type": "stream",
     "text": [
      "Columnas creadas: SID y CID\n",
      "     PubChemSID PubChemCID\n",
      "0      85377015  131835070\n",
      "1      85390422  131752849\n",
      "2      85385648   44260005\n",
      "3      85395895   13916054\n",
      "4      85387578   11016019\n",
      "...         ...        ...\n",
      "1526   85391611  165368668\n",
      "1527   85368157  131833677\n",
      "1528   85390599   51666248\n",
      "1529   85384952   44259537\n",
      "1530   85384289   15489634\n",
      "\n",
      "[1531 rows x 2 columns]\n"
     ]
    }
   ],
   "source": [
    "print(\"Columnas creadas: SID y CID\")\n",
    "print(df[['PubChemSID', 'PubChemCID']])"
   ]
  },
  {
   "cell_type": "code",
   "execution_count": 16,
   "id": "d394df04-8e2b-4449-8918-b8ae3748e1d6",
   "metadata": {
    "tags": []
   },
   "outputs": [
    {
     "name": "stdout",
     "output_type": "stream",
     "text": [
      "      ChEBI_ID                                         ChEBI_Name  \\\n",
      "0       177972  3,4,5-trihydroxy-6-{[5,6,7-trihydroxy-2-(4-hyd...   \n",
      "1       191634                         Neoliquiritin 2''-apioside   \n",
      "2       186794                                        Haploside F   \n",
      "3       197154                                    Sagittatoside A   \n",
      "4       188752               Diosmetin 7-O-beta-D-glucopyranoside   \n",
      "...        ...                                                ...   \n",
      "1526    192835                 6-hydroxyflavone-alpha-D-glucoside   \n",
      "1527    168975  [5-(5,7-dihydroxy-6-{4-hydroxy-6-methyl-5-oxo-...   \n",
      "1528    191812                                      Neoliquiritin   \n",
      "1529    186092               Myricetin 5-methyl ether 7-glucoside   \n",
      "1530    185412               5,7,8-Trihydroxy-4'-methoxyflavanone   \n",
      "\n",
      "                                                 SMILES  \\\n",
      "0     O1C(OC2=C(OC3=C(C2=O)C(O)=C(O)C(O)=C3)C4=CC(OC...   \n",
      "1     O(C1C(O)C(O)C(OC1OC2=CC=3OC(CC(=O)C3C=C2)C4=CC...   \n",
      "2     O(C1[C@@H](O)[C@H](O)C(O[C@H]1OC2=C(O)C=3OC(=C...   \n",
      "3     O([C@@H]1[C@H](O)[C@@H](O)[C@@H](O[C@H]1OC2=C(...   \n",
      "4     O1[C@@H]([C@@H](O)[C@H](O)[C@@H](O)[C@@H]1OC=2...   \n",
      "...                                                 ...   \n",
      "1526  O1[C@@H]([C@@H](O)[C@H](O)[C@@H](O)[C@H]1OC2=C...   \n",
      "1527  S(OC=1C=C(C=2OC3=C(C(O)=C(C4OC(C(=O)C(O)C4OC5O...   \n",
      "1528  O1[C@@H]([C@@H](O)[C@H](O)[C@@H](O)[C@@H]1OC2=...   \n",
      "1529  O1C([C@@H](O)[C@H](O)C(O)[C@@H]1OC2=CC=3OC(=C(...   \n",
      "1530  O1[C@@H](CC(=O)C2=C1C(O)=C(O)C=C2O)C3=CC=C(OC)...   \n",
      "\n",
      "                        PubChem_SID PubChemSID PubChemCID  \n",
      "0     SID: 85377015\\nCID: 131835070   85377015  131835070  \n",
      "1     SID: 85390422\\nCID: 131752849   85390422  131752849  \n",
      "2      SID: 85385648\\nCID: 44260005   85385648   44260005  \n",
      "3      SID: 85395895\\nCID: 13916054   85395895   13916054  \n",
      "4      SID: 85387578\\nCID: 11016019   85387578   11016019  \n",
      "...                             ...        ...        ...  \n",
      "1526  SID: 85391611\\nCID: 165368668   85391611  165368668  \n",
      "1527  SID: 85368157\\nCID: 131833677   85368157  131833677  \n",
      "1528   SID: 85390599\\nCID: 51666248   85390599   51666248  \n",
      "1529   SID: 85384952\\nCID: 44259537   85384952   44259537  \n",
      "1530   SID: 85384289\\nCID: 15489634   85384289   15489634  \n",
      "\n",
      "[1531 rows x 6 columns]\n"
     ]
    }
   ],
   "source": [
    "print(df)"
   ]
  },
  {
   "cell_type": "code",
   "execution_count": 17,
   "id": "8e1a2fd9-3558-48c7-80f9-4e80c2ed95ab",
   "metadata": {
    "tags": []
   },
   "outputs": [],
   "source": [
    "#Eliminar columna original\n",
    "df = df.drop(columns=['PubChem_SID'])"
   ]
  },
  {
   "cell_type": "code",
   "execution_count": 18,
   "id": "d5547d61-fec1-4e28-85e3-eb388a9b3c25",
   "metadata": {
    "tags": []
   },
   "outputs": [
    {
     "name": "stdout",
     "output_type": "stream",
     "text": [
      "      ChEBI_ID                                         ChEBI_Name  \\\n",
      "0       177972  3,4,5-trihydroxy-6-{[5,6,7-trihydroxy-2-(4-hyd...   \n",
      "1       191634                         Neoliquiritin 2''-apioside   \n",
      "2       186794                                        Haploside F   \n",
      "3       197154                                    Sagittatoside A   \n",
      "4       188752               Diosmetin 7-O-beta-D-glucopyranoside   \n",
      "...        ...                                                ...   \n",
      "1526    192835                 6-hydroxyflavone-alpha-D-glucoside   \n",
      "1527    168975  [5-(5,7-dihydroxy-6-{4-hydroxy-6-methyl-5-oxo-...   \n",
      "1528    191812                                      Neoliquiritin   \n",
      "1529    186092               Myricetin 5-methyl ether 7-glucoside   \n",
      "1530    185412               5,7,8-Trihydroxy-4'-methoxyflavanone   \n",
      "\n",
      "                                                 SMILES PubChemSID PubChemCID  \n",
      "0     O1C(OC2=C(OC3=C(C2=O)C(O)=C(O)C(O)=C3)C4=CC(OC...   85377015  131835070  \n",
      "1     O(C1C(O)C(O)C(OC1OC2=CC=3OC(CC(=O)C3C=C2)C4=CC...   85390422  131752849  \n",
      "2     O(C1[C@@H](O)[C@H](O)C(O[C@H]1OC2=C(O)C=3OC(=C...   85385648   44260005  \n",
      "3     O([C@@H]1[C@H](O)[C@@H](O)[C@@H](O[C@H]1OC2=C(...   85395895   13916054  \n",
      "4     O1[C@@H]([C@@H](O)[C@H](O)[C@@H](O)[C@@H]1OC=2...   85387578   11016019  \n",
      "...                                                 ...        ...        ...  \n",
      "1526  O1[C@@H]([C@@H](O)[C@H](O)[C@@H](O)[C@H]1OC2=C...   85391611  165368668  \n",
      "1527  S(OC=1C=C(C=2OC3=C(C(O)=C(C4OC(C(=O)C(O)C4OC5O...   85368157  131833677  \n",
      "1528  O1[C@@H]([C@@H](O)[C@H](O)[C@@H](O)[C@@H]1OC2=...   85390599   51666248  \n",
      "1529  O1C([C@@H](O)[C@H](O)C(O)[C@@H]1OC2=CC=3OC(=C(...   85384952   44259537  \n",
      "1530  O1[C@@H](CC(=O)C2=C1C(O)=C(O)C=C2O)C3=CC=C(OC)...   85384289   15489634  \n",
      "\n",
      "[1531 rows x 5 columns]\n"
     ]
    }
   ],
   "source": [
    "print(df)"
   ]
  },
  {
   "cell_type": "code",
   "execution_count": 19,
   "id": "70a6346d-05d3-4e5f-bc0d-1927644e0477",
   "metadata": {
    "tags": []
   },
   "outputs": [],
   "source": []
  },
  {
   "cell_type": "code",
   "execution_count": 25,
   "id": "0f45fada-67a1-4ad6-a860-b6a98774fd1e",
   "metadata": {
    "tags": []
   },
   "outputs": [
    {
     "name": "stdout",
     "output_type": "stream",
     "text": [
      "Número de flavonoides sin identificador en PubChem_SID (Nueva columna): 12\n",
      "                                             ChEBI_Name\n",
      "47                                         Citrifelin B\n",
      "288                                       Aspergivone B\n",
      "330                Naringenin-7-O-beta-D-xylopyranoside\n",
      "458              Sakuranetin-4′-O-beta-D-xylopyranoside\n",
      "583                                       Aspergivone A\n",
      "820                                         Flavoside A\n",
      "859                                     Actinoflavoside\n",
      "883   7,3'-di-(gamma,gamma-dimethylallyloxy)-5-hydro...\n",
      "926                                     Chlorflavonin A\n",
      "1218                                          CJ-19,784\n",
      "1261  8-C-methyl-6-hydroxykaempferol 3,6,7-trimethyl...\n",
      "1466  5,4'-dihydroxy-3,7,8-trimethoxy-6-C-methylflavone\n"
     ]
    }
   ],
   "source": [
    "#Corroborar filas sin informacion\n",
    "flavonoides_sin_SID = df[df['PubChemSID'].isnull()]\n",
    "cantidad_flavonoides_sin_SID = flavonoides_sin_SID.shape[0]\n",
    "print(f'Número de flavonoides sin identificador en PubChem_SID (Nueva columna): {cantidad_flavonoides_sin_SID}')\n",
    "print(flavonoides_sin_SID[['ChEBI_Name']])"
   ]
  },
  {
   "cell_type": "code",
   "execution_count": 27,
   "id": "16ae734a-794e-478d-b0d7-e63f2141b3df",
   "metadata": {
    "tags": []
   },
   "outputs": [
    {
     "name": "stdout",
     "output_type": "stream",
     "text": [
      "Número de flavonoides sin identificador en PubChem_CID(Nueva columna): 15\n",
      "                                             ChEBI_Name\n",
      "47                                         Citrifelin B\n",
      "288                                       Aspergivone B\n",
      "330                Naringenin-7-O-beta-D-xylopyranoside\n",
      "347                                             aurones\n",
      "458              Sakuranetin-4′-O-beta-D-xylopyranoside\n",
      "519                                        pterocarpans\n",
      "583                                       Aspergivone A\n",
      "820                                         Flavoside A\n",
      "859                                     Actinoflavoside\n",
      "883   7,3'-di-(gamma,gamma-dimethylallyloxy)-5-hydro...\n",
      "926                                     Chlorflavonin A\n",
      "1218                                          CJ-19,784\n",
      "1261  8-C-methyl-6-hydroxykaempferol 3,6,7-trimethyl...\n",
      "1383                                         coumestans\n",
      "1466  5,4'-dihydroxy-3,7,8-trimethoxy-6-C-methylflavone\n"
     ]
    }
   ],
   "source": [
    "flavonoides_sin_CID = df[df['PubChemCID'].isnull()]\n",
    "cantidad_flavonoides_sin_CID = flavonoides_sin_CID.shape[0]\n",
    "print(f'Número de flavonoides sin identificador en PubChem_CID(Nueva columna): {cantidad_flavonoides_sin_CID}')\n",
    "print(flavonoides_sin_CID[['ChEBI_Name']])"
   ]
  },
  {
   "cell_type": "code",
   "execution_count": null,
   "id": "6e5b8bf6-f3d1-4e31-a1f3-991a491c6f48",
   "metadata": {},
   "outputs": [],
   "source": []
  }
 ],
 "metadata": {
  "kernelspec": {
   "display_name": "Python 3 (ipykernel)",
   "language": "python",
   "name": "python3"
  },
  "language_info": {
   "codemirror_mode": {
    "name": "ipython",
    "version": 3
   },
   "file_extension": ".py",
   "mimetype": "text/x-python",
   "name": "python",
   "nbconvert_exporter": "python",
   "pygments_lexer": "ipython3",
   "version": "3.11.5"
  }
 },
 "nbformat": 4,
 "nbformat_minor": 5
}
